{
 "cells": [
  {
   "cell_type": "markdown",
   "metadata": {},
   "source": [
    "# Delft3D-Toolbox Documentation\n",
    "\n",
    "Python package for running and modifying Delft3D FLOW model.\n",
    "\n",
    "## Installation\n",
    "\n",
    "---\n",
    "To install into the environment of your choosing, run:  \n",
    "`pip install git+https://github.com/Carlisle345748/Delft3D-Toolbox.git@master`\n",
    "\n",
    "To uninstall run `pip uninstall delft3d-toolbox`."
   ]
  },
  {
   "cell_type": "markdown",
   "metadata": {},
   "source": [
    "## Usage\n",
    "\n",
    "---\n",
    "\n",
    "### 1. Run Delft3D FLOW simulation\n",
    "\n",
    "The `delft3d` module support running Delft3D FLOW model. You can run one model in a time or set a list of models to run successively or in parallel. The class `delft3d.Simulation` provides the functionality of running Delft3D FLOW model. \n",
    "\n",
    "<br>\n",
    "\n",
    "#### Create an `delft3d.Simulation` object\n",
    "Please supply the path of Delft3D compiled source code"
   ]
  },
  {
   "cell_type": "code",
   "execution_count": 1,
   "metadata": {},
   "outputs": [],
   "source": [
    "import delft3d\n",
    "\n",
    "# supply the path of Delft3D compiled source code\n",
    "sim = delft3d.Simulation('C:/Users/Carlisle/Desktop/62422/src/bin/x64')"
   ]
  },
  {
   "cell_type": "markdown",
   "metadata": {},
   "source": [
    "<br>\n",
    "\n",
    "#### Run Delft3D model\n",
    "Supply the path of the (`.mdf`) file to run. You can run one model in a time or supply a list of models to run. If `workers` = 1, the list of models will run successively (one by one). If `workers` > 1,  the list of models will run in parallel (set `workers` = -1 to use all cpu cores). Set `disp` True to show simulation progress. Set `netcdf` True to save simulation result as netCDF file."
   ]
  },
  {
   "cell_type": "code",
   "execution_count": null,
   "metadata": {},
   "outputs": [],
   "source": [
    "# run simulation successively\n",
    "sim.run('example/dflow1/f34.mdf') # run one simulation\n",
    "sim.run('example/dflow1/f34.mdf', disp=False)  # no simulation progress\n",
    "sim.run('example/dflow1/f34.mdf', netcdf=True)  # save simulation result as netcdf\n",
    "sim.run(['example/dflow1/f34.mdf', 'example/dflow2/f342.mdf']) # run two simulation successively"
   ]
  },
  {
   "cell_type": "code",
   "execution_count": null,
   "metadata": {},
   "outputs": [],
   "source": [
    "# run simulation in parallel\n",
    "sim.run(['example/dflow1/f342.mdf', 'example/dflow2/f342.mdf'], workers=2) # 2 workeres\n",
    "sim.run(['example/dflow1/f34.mdf', 'example/dflow2/f342.mdf'], workers=-1)  # use all cpu cores"
   ]
  },
  {
   "cell_type": "markdown",
   "metadata": {},
   "source": [
    "<br>\n",
    "\n",
    "#### Compare between parallelzation and succession"
   ]
  },
  {
   "cell_type": "code",
   "execution_count": 4,
   "metadata": {},
   "outputs": [
    {
     "name": "stdout",
     "output_type": "stream",
     "text": [
      "-------------------Parallelization------------------\n",
      "All simulations completed. Total time=5.014573 s\n",
      "---------------------Succession---------------------\n",
      "Simulation f342.mdf completed. Time usage=1.962243 s\n",
      "Simulation f342.mdf completed. Time usage=1.816061 s\n",
      "Simulation f34.mdf completed. Time usage=2.098850 s\n",
      "Simulation f34.mdf completed. Time usage=1.781167 s\n",
      "All simulations completed. Total time=7.661315 s\n"
     ]
    }
   ],
   "source": [
    "model_list = ['example/dflow1/f342.mdf', 'example/dflow2/f342.mdf',\n",
    "              'example/dflow1/f34.mdf', 'example/dflow2/f34.mdf']\n",
    "sim.run(model_list , workers=4)\n",
    "sim.run(model_list , workers=1)"
   ]
  },
  {
   "cell_type": "markdown",
   "metadata": {},
   "source": [
    "\n",
    "\n",
    "\n"
   ]
  },
  {
   "cell_type": "markdown",
   "metadata": {},
   "source": [
    "### 2. Delft3D time-series file\n",
    "\n",
    "`TimeSeriesFile` class provide a interface to read, modify and write Delft3D time-series file (`.bct, .bcc, .dis`).\n",
    "\n",
    "<br>\n",
    "\n",
    "#### Create an `TimeSeriesFile` object of a time-series file"
   ]
  },
  {
   "cell_type": "code",
   "execution_count": 5,
   "metadata": {},
   "outputs": [],
   "source": [
    "import delft3d\n",
    "\n",
    "# read files\n",
    "bct = delft3d.TimeSeriesFile('example/example1.bct')\n",
    "bcc = delft3d.TimeSeriesFile('example/example1.bcc')\n",
    "dis = delft3d.TimeSeriesFile('example/example1.dis')"
   ]
  },
  {
   "cell_type": "markdown",
   "metadata": {},
   "source": [
    "<br>\n",
    "\n",
    "#### Show the header of the file\n",
    "\n",
    "The number '0' means the first time-serie in the file."
   ]
  },
  {
   "cell_type": "code",
   "execution_count": 6,
   "metadata": {},
   "outputs": [
    {
     "data": {
      "text/plain": [
       "{'table-name': Boundary Section : 1,\n",
       " 'contents': Uniform,\n",
       " 'location': (2,246)..(7,246),\n",
       " 'time-function': non-equidistant,\n",
       " 'reference-time': 20200331,\n",
       " 'time-unit': minutes,\n",
       " 'interpolation': linear,\n",
       " 'parameter': {'time': time unit=min,\n",
       "  'water elevation (z)  end A': water elevation (z)  end A unit=m,\n",
       "  'water elevation (z)  end B': water elevation (z)  end B unit=m},\n",
       " 'records-in-table': 433}"
      ]
     },
     "execution_count": 6,
     "metadata": {},
     "output_type": "execute_result"
    }
   ],
   "source": [
    "bct.data[0].header"
   ]
  },
  {
   "cell_type": "markdown",
   "metadata": {},
   "source": [
    "<br>\n",
    "\n",
    "#### Show the time-series data of the file\n",
    "\n",
    "The number '0' means the first time-serie in the file."
   ]
  },
  {
   "cell_type": "code",
   "execution_count": 7,
   "metadata": {},
   "outputs": [
    {
     "data": {
      "text/html": [
       "<div>\n",
       "<style scoped>\n",
       "    .dataframe tbody tr th:only-of-type {\n",
       "        vertical-align: middle;\n",
       "    }\n",
       "\n",
       "    .dataframe tbody tr th {\n",
       "        vertical-align: top;\n",
       "    }\n",
       "\n",
       "    .dataframe thead th {\n",
       "        text-align: right;\n",
       "    }\n",
       "</style>\n",
       "<table border=\"1\" class=\"dataframe\">\n",
       "  <thead>\n",
       "    <tr style=\"text-align: right;\">\n",
       "      <th></th>\n",
       "      <th>time</th>\n",
       "      <th>water elevation (z)  end A</th>\n",
       "      <th>water elevation (z)  end B</th>\n",
       "    </tr>\n",
       "  </thead>\n",
       "  <tbody>\n",
       "    <tr>\n",
       "      <th>2020-03-31 00:00:00</th>\n",
       "      <td>0.0</td>\n",
       "      <td>0.4077</td>\n",
       "      <td>0.4077</td>\n",
       "    </tr>\n",
       "    <tr>\n",
       "      <th>2020-03-31 00:10:00</th>\n",
       "      <td>10.0</td>\n",
       "      <td>0.4282</td>\n",
       "      <td>0.4282</td>\n",
       "    </tr>\n",
       "    <tr>\n",
       "      <th>2020-03-31 00:20:00</th>\n",
       "      <td>20.0</td>\n",
       "      <td>0.4707</td>\n",
       "      <td>0.4707</td>\n",
       "    </tr>\n",
       "    <tr>\n",
       "      <th>2020-03-31 00:30:00</th>\n",
       "      <td>30.0</td>\n",
       "      <td>0.5127</td>\n",
       "      <td>0.5127</td>\n",
       "    </tr>\n",
       "    <tr>\n",
       "      <th>2020-03-31 00:40:00</th>\n",
       "      <td>40.0</td>\n",
       "      <td>0.5692</td>\n",
       "      <td>0.5692</td>\n",
       "    </tr>\n",
       "  </tbody>\n",
       "</table>\n",
       "</div>"
      ],
      "text/plain": [
       "                     time  water elevation (z)  end A  \\\n",
       "2020-03-31 00:00:00   0.0                      0.4077   \n",
       "2020-03-31 00:10:00  10.0                      0.4282   \n",
       "2020-03-31 00:20:00  20.0                      0.4707   \n",
       "2020-03-31 00:30:00  30.0                      0.5127   \n",
       "2020-03-31 00:40:00  40.0                      0.5692   \n",
       "\n",
       "                     water elevation (z)  end B  \n",
       "2020-03-31 00:00:00                      0.4077  \n",
       "2020-03-31 00:10:00                      0.4282  \n",
       "2020-03-31 00:20:00                      0.4707  \n",
       "2020-03-31 00:30:00                      0.5127  \n",
       "2020-03-31 00:40:00                      0.5692  "
      ]
     },
     "execution_count": 7,
     "metadata": {},
     "output_type": "execute_result"
    }
   ],
   "source": [
    "bct.data[0].time_series.head()"
   ]
  },
  {
   "cell_type": "markdown",
   "metadata": {},
   "source": [
    "<br>\n",
    "\n",
    "#### Modify header and data of the time-series\n",
    "The new data must be provided as a dict. The key of the dict is the name of the header and the value is the new content of the header."
   ]
  },
  {
   "cell_type": "code",
   "execution_count": 8,
   "metadata": {},
   "outputs": [],
   "source": [
    "import pandas as pd\n",
    "\n",
    "flow_series_A = pd.read_csv('example/flow_series_A.csv', index_col=0)\n",
    "flow_series_A.index = pd.to_datetime(flow_series_A.index)\n",
    "flow_series_B = pd.read_csv('example/flow_series_B.csv', index_col=0)\n",
    "flow_series_B.index = pd.to_datetime(flow_series_B.index)\n",
    "\n",
    "# modify header\n",
    "bct.set_header(0, {'time-unit': 'hours', 'location': '(2,3)..(4,6)'})\n",
    "\n",
    "# modify time-series data\n",
    "bct.set_time_series(0, '2020-03-31', flow_series_A, flow_series_B)"
   ]
  },
  {
   "cell_type": "markdown",
   "metadata": {},
   "source": [
    "<br>\n",
    "\n",
    "#### Export the data to a list in the format of Delft3D time series file"
   ]
  },
  {
   "cell_type": "code",
   "execution_count": 9,
   "metadata": {},
   "outputs": [
    {
     "data": {
      "text/plain": [
       "[\"table-name           'Boundary Section : 1'\\n\",\n",
       " \"contents             'Uniform             '\\n\",\n",
       " \"location             '(2,3)..(4,6)        '\\n\",\n",
       " \"time-function        'non-equidistant'\\n\",\n",
       " 'reference-time       20200331\\n',\n",
       " \"time-unit            'hours  '\\n\",\n",
       " \"interpolation        'linear'\\n\",\n",
       " \"parameter            'time                '                     unit '[min]'\\n\",\n",
       " \"parameter            'water elevation (z)  end A'               unit '[m]'\\n\",\n",
       " \"parameter            'water elevation (z)  end B'               unit '[m]'\\n\"]"
      ]
     },
     "execution_count": 9,
     "metadata": {},
     "output_type": "execute_result"
    }
   ],
   "source": [
    "# The whole time-series file is too long. Only show the first 10 row here.\n",
    "bct_file = bct.export()\n",
    "bct_file[0:10]"
   ]
  },
  {
   "cell_type": "markdown",
   "metadata": {},
   "source": [
    "<br>    \n",
    "    \n",
    "#### Write the data to a Delft3D time series file"
   ]
  },
  {
   "cell_type": "code",
   "execution_count": 10,
   "metadata": {},
   "outputs": [],
   "source": [
    "bct.to_file('example1.bct')"
   ]
  },
  {
   "cell_type": "markdown",
   "metadata": {},
   "source": [
    "<br>\n",
    "\n",
    "### 3. Delft3D mdf file\n",
    "\n",
    "`MdfsFile` class provide a interface to read, modify and write Delft3D mdf file (`.mdf`).\n",
    "\n",
    "<br>\n",
    "\n",
    "#### Create an `MdfFile` object of a mdf file"
   ]
  },
  {
   "cell_type": "code",
   "execution_count": 11,
   "metadata": {},
   "outputs": [],
   "source": [
    "import delft3d\n",
    "mdf = delft3d.MdfFile('example/example1.mdf')"
   ]
  },
  {
   "cell_type": "markdown",
   "metadata": {},
   "source": [
    "<br>\n",
    "\n",
    "#### Show the content of the mdf file"
   ]
  },
  {
   "cell_type": "code",
   "execution_count": 14,
   "metadata": {
    "scrolled": true
   },
   "outputs": [
    {
     "data": {
      "text/plain": [
       "{'Ident': 'Delft3D-FLOW 3.59.01.57433',\n",
       " 'Filcco': 'river.grd',\n",
       " 'Anglat': 22.56,\n",
       " 'Grdang': 228.3,\n",
       " 'Filgrd': 'river.enc',\n",
       " 'MNKmax': array([  8., 246.,   1.]),\n",
       " 'Thick': 100.0,\n",
       " 'Fildep': 'river.dep',\n",
       " 'Itdate': '2020-03-31',\n",
       " 'Tunit': 'M',\n",
       " 'Tstart': 0.0,\n",
       " 'Tstop': 4320.0,\n",
       " 'Dt': 0.1,\n",
       " 'Tzone': 8.0,\n",
       " 'Sub1': '    ',\n",
       " 'Sub2': ' C ',\n",
       " 'Namc1': 'spill               ',\n",
       " 'Wnsvwp': 'N',\n",
       " 'Wndint': 'Y',\n",
       " 'Zeta0': 0.41335,\n",
       " 'C01': 0.4395,\n",
       " 'Filbnd': 'river.bnd',\n",
       " 'FilbcT': 'river.bct',\n",
       " 'FilbcC': 'river.bcc',\n",
       " 'Rettis': array([[0.],\n",
       "        [0.]]),\n",
       " 'Rettib': array([[0.],\n",
       "        [0.]]),\n",
       " 'Ag': 9.81,\n",
       " 'Rhow': 1000.0,\n",
       " 'Tempw': 15.0,\n",
       " 'Salw': 31.0,\n",
       " 'Wstres': array([6.30e-04, 0.00e+00, 7.23e-03, 1.00e+02, 7.23e-03, 1.00e+02]),\n",
       " 'Rhoa': 1.0,\n",
       " 'Betac': 0.5,\n",
       " 'Equili': 'N',\n",
       " 'Ktemp': 0.0,\n",
       " 'Fclou': 0.0,\n",
       " 'Sarea': 0.0,\n",
       " 'Temint': 'Y',\n",
       " 'Roumet': 'M',\n",
       " 'Ccofu': 0.02929358,\n",
       " 'Ccofv': 0.03331361,\n",
       " 'Xlo': 0.0,\n",
       " 'Vicouv': 24.29591,\n",
       " 'Dicouv': 20.05919,\n",
       " 'Htur2d': 'N',\n",
       " 'Irov': 0.0,\n",
       " 'Iter': 2.0,\n",
       " 'Dryflp': 'YES',\n",
       " 'Dpsopt': 'MAX',\n",
       " 'Dpuopt': 'MEAN',\n",
       " 'Dryflc': 0.1,\n",
       " 'Dco': -999.0,\n",
       " 'Tlfsmo': 60.0,\n",
       " 'ThetQH': 0.0,\n",
       " 'Forfuv': 'Y',\n",
       " 'Forfww': 'N',\n",
       " 'Sigcor': 'N',\n",
       " 'Trasol': 'Cyclic-method',\n",
       " 'Momsol': 'Cyclic',\n",
       " 'Filsrc': 'river.src',\n",
       " 'Fildis': 'river.dis',\n",
       " 'Filsta': 'river.obs',\n",
       " 'SMhydr': 'YYYYY',\n",
       " 'SMderv': 'YYYYYY',\n",
       " 'SMproc': 'YYYYYYYYYY',\n",
       " 'PMhydr': 'YYYYYY',\n",
       " 'PMderv': 'YYY',\n",
       " 'PMproc': 'YYYYYYYYYY',\n",
       " 'SHhydr': 'YYYY',\n",
       " 'SHderv': 'YYYYY',\n",
       " 'SHproc': 'YYYYYYYYYY',\n",
       " 'SHflux': 'YYYY',\n",
       " 'PHhydr': 'YYYYYY',\n",
       " 'PHderv': 'YYY',\n",
       " 'PHproc': 'YYYYYYYYYY',\n",
       " 'PHflux': 'YYYY',\n",
       " 'Flmap': array([   0.,   10., 4320.]),\n",
       " 'Flhis': array([   0.,   10., 4320.]),\n",
       " 'Flpp': array([4320.,    0., 4320.]),\n",
       " 'Flrst': 1440.0,\n",
       " 'Online': 'N',\n",
       " 'FlNcdf': 'map his dro fou'}"
      ]
     },
     "execution_count": 14,
     "metadata": {},
     "output_type": "execute_result"
    }
   ],
   "source": [
    "mdf.data"
   ]
  },
  {
   "cell_type": "markdown",
   "metadata": {},
   "source": [
    "<br>\n",
    "\n",
    "#### Set new value for a parameter\n",
    "The new data must be provided as a dict. The key of the dict is the name of the parameter and the value is the new content of the parameter. \n",
    "\n",
    "**IMPORTANT** : when setting new values for parameters with multiple values (single-line or multiple-line array parameter e.g. 'Flmap'), please supply iterable data type such as list, tuple and ndarray."
   ]
  },
  {
   "cell_type": "code",
   "execution_count": 15,
   "metadata": {},
   "outputs": [],
   "source": [
    "mdf.set_parm({'Fildep': 'river.dep', 'Dt': 0.5, 'Flmap':[0, 10, 4320]})"
   ]
  },
  {
   "cell_type": "markdown",
   "metadata": {},
   "source": [
    "<br>\n",
    "\n",
    "#### Add new parameter\n",
    "The new data must be provided as a dict. The key of the dict is the name of the parameter and the value is the new content of the parameter. "
   ]
  },
  {
   "cell_type": "code",
   "execution_count": 16,
   "metadata": {},
   "outputs": [],
   "source": [
    "mdf.add_parm({'FlNcdf': 'map his dro fou'})"
   ]
  },
  {
   "cell_type": "markdown",
   "metadata": {},
   "source": [
    "<br>\n",
    "\n",
    "#### Export the data to a list in the format of Delft3D mdf file"
   ]
  },
  {
   "cell_type": "code",
   "execution_count": 17,
   "metadata": {},
   "outputs": [
    {
     "data": {
      "text/plain": [
       "['Ident  = #Delft3D-FLOW 3.59.01.57433#\\n',\n",
       " 'Filcco = #river.grd#\\n',\n",
       " 'Anglat = 2.2560000e+01\\n',\n",
       " 'Grdang = 2.2830000e+02\\n',\n",
       " 'Filgrd = #river.enc#\\n',\n",
       " 'MNKmax = 8 246 1\\n',\n",
       " 'Thick  = 1.0000000e+02\\n',\n",
       " 'Fildep = #river.dep#\\n',\n",
       " 'Itdate = #2020-03-31#\\n',\n",
       " 'Tunit  = #M#\\n']"
      ]
     },
     "execution_count": 17,
     "metadata": {},
     "output_type": "execute_result"
    }
   ],
   "source": [
    "# The whole ndf file is too long. Only show the first 10 row here.\n",
    "mdf_file = mdf.export()\n",
    "mdf_file[0:10]"
   ]
  },
  {
   "cell_type": "markdown",
   "metadata": {},
   "source": [
    "<br>\n",
    "\n",
    "#### Write the data to a Delft3D mdf file"
   ]
  },
  {
   "cell_type": "code",
   "execution_count": 18,
   "metadata": {},
   "outputs": [],
   "source": [
    "mdf.to_file('example1.mdf')"
   ]
  },
  {
   "cell_type": "markdown",
   "metadata": {},
   "source": [
    "<br>\n",
    "\n",
    "### 4. Delft3D grd file\n",
    "\n",
    "`GrdFile` class provide a interface to read, modify and write Delft3D grd file (`.grd`).\n",
    "\n",
    "<br>\n",
    "\n",
    "#### Create an `GrdFile` object of a grd file"
   ]
  },
  {
   "cell_type": "code",
   "execution_count": 19,
   "metadata": {},
   "outputs": [],
   "source": [
    "import delft3d\n",
    "grd = delft3d.GrdFile('example/example1.grd')"
   ]
  },
  {
   "cell_type": "markdown",
   "metadata": {},
   "source": [
    "<br>\n",
    "\n",
    "#### Convert coordinate system\n",
    "Convert coordinate system between spherical and cartesian.\n",
    "\n",
    "Default spherical coordinate system: **WGS 84**.\n",
    "\n",
    "Default cartesian coordinate system: **WGS_1984_Web_Mercator_Auxiliary_Sphere**.\n",
    "\n",
    "Find the EPSG of more coordinate system in the following link.\n",
    "https://developers.arcgis.com/javascript/3/jshelp/pcs.htm"
   ]
  },
  {
   "cell_type": "code",
   "execution_count": 20,
   "metadata": {},
   "outputs": [],
   "source": [
    "# Cartesian_to_spherical\n",
    "grd.cartesian_to_spherical()\n",
    "grd.cartesian_to_spherical(car_epsg=26917, sph_epsg=4326)\n",
    "\n",
    "# Spherical_to_cartesian\n",
    "grd.spherical_to_cartesian()\n",
    "grd.spherical_to_cartesian(sph_epsg=4326, car_epsg=26917)"
   ]
  },
  {
   "cell_type": "markdown",
   "metadata": {},
   "source": [
    "<br>\n",
    "\n",
    "#### Find the nearest grid for the giving coordinate\n",
    "If the coordinate system is spherical, it will be automatically convert to cartesian coordinate system.\n",
    "You can specify the EPSG of coordiante by supplying `sph_egsp` and `car_epsg`.Find the EPSG of more coordinate system in the following link.\n",
    "https://developers.arcgis.com/javascript/3/jshelp/pcs.htm"
   ]
  },
  {
   "cell_type": "code",
   "execution_count": 21,
   "metadata": {},
   "outputs": [],
   "source": [
    "m1, n1 = grd.get_nearest_grid(505944.89, 2497013.47)\n",
    "m2, n2 = grd.get_nearest_grid(505944.89, 2497013.47, sph_epsg=4326, car_epsg=26917)"
   ]
  },
  {
   "cell_type": "markdown",
   "metadata": {},
   "source": [
    "<br>\n",
    "\n",
    "#### Visualize the grid.\n",
    "If the coordinate system is spherical, it will be automatically\n",
    "convert to cartesian coordinate system. You can specify the EPSG of coordiante\n",
    "by supplying `sph_egsp` and `car_epsg`. Find the EPSG of more coordinate system in\n",
    "the following link. https://developers.arcgis.com/javascript/3/jshelp/pcs.htm"
   ]
  },
  {
   "cell_type": "code",
   "execution_count": 22,
   "metadata": {},
   "outputs": [
    {
     "data": {
      "image/png": "[encoded data removed]",
      "text/plain": [
       "<Figure size 720x576 with 1 Axes>"
      ]
     },
     "metadata": {
      "needs_background": "light"
     },
     "output_type": "display_data"
    }
   ],
   "source": [
    "grd.plot()"
   ]
  },
  {
   "cell_type": "markdown",
   "metadata": {},
   "source": [
    "<br>\n",
    "\n",
    "#### Set new grid."
   ]
  },
  {
   "cell_type": "code",
   "execution_count": 23,
   "metadata": {},
   "outputs": [
    {
     "data": {
      "image/png": "[encoded data removed]",
      "text/plain": [
       "<Figure size 720x576 with 1 Axes>"
      ]
     },
     "metadata": {
      "needs_background": "light"
     },
     "output_type": "display_data"
    }
   ],
   "source": [
    "import numpy as np\n",
    "\n",
    "grd_x = np.loadtxt('example/grd_x.txt')\n",
    "grd_y = np.loadtxt('example/grd_y.txt')\n",
    "grd.set_gird(grd_x, grd_y, 'Cartesian')\n",
    "grd.plot()"
   ]
  },
  {
   "cell_type": "markdown",
   "metadata": {},
   "source": [
    "<br>\n",
    "\n",
    "#### Export the data to a list in the format of Delft3D grd file"
   ]
  },
  {
   "cell_type": "code",
   "execution_count": 24,
   "metadata": {},
   "outputs": [
    {
     "data": {
      "text/plain": [
       "['Coordinate System = Cartesian\\n',\n",
       " '      99      73\\n',\n",
       " ' 0 0 0\\n',\n",
       " ' ETA=    1   0.00000000000000000E+00   0.00000000000000000E+00   0.00000000000000000E+00   0.00000000000000000E+00   0.00000000000000000E+00\\n',\n",
       " '             0.00000000000000000E+00   0.00000000000000000E+00   0.00000000000000000E+00   0.00000000000000000E+00   0.00000000000000000E+00\\n',\n",
       " '             0.00000000000000000E+00   0.00000000000000000E+00   0.00000000000000000E+00   0.00000000000000000E+00   0.00000000000000000E+00\\n',\n",
       " '             0.00000000000000000E+00   0.00000000000000000E+00   0.00000000000000000E+00   0.00000000000000000E+00   0.00000000000000000E+00\\n',\n",
       " '             0.00000000000000000E+00   0.00000000000000000E+00   0.00000000000000000E+00   0.00000000000000000E+00   0.00000000000000000E+00\\n',\n",
       " '             0.00000000000000000E+00   0.00000000000000000E+00   0.00000000000000000E+00   0.00000000000000000E+00   0.00000000000000000E+00\\n',\n",
       " '             0.00000000000000000E+00   0.00000000000000000E+00   0.00000000000000000E+00   0.00000000000000000E+00   0.00000000000000000E+00\\n']"
      ]
     },
     "execution_count": 24,
     "metadata": {},
     "output_type": "execute_result"
    }
   ],
   "source": [
    "grd.export()[0:10]"
   ]
  },
  {
   "cell_type": "markdown",
   "metadata": {},
   "source": [
    "<br>\n",
    "\n",
    "#### Write the data to a Delft3D grd file"
   ]
  },
  {
   "cell_type": "code",
   "execution_count": 25,
   "metadata": {},
   "outputs": [],
   "source": [
    "grd.to_file('example1.dep')"
   ]
  },
  {
   "cell_type": "markdown",
   "metadata": {},
   "source": [
    "<br>\n",
    "\n",
    "### 5. Delft3D grd file\n",
    "\n",
    "`DepFile` class provide a interface to read, modify and write Delft3D dep file (`.grd`).\n",
    "\n",
    "<br>\n",
    "\n",
    "#### Create an `DepFile` object of a dep file\n",
    "To create an `DepFile` object you need to supply the connected `.grd` file. You can supply the path of the `.grd` file or its `GrdFile` object. "
   ]
  },
  {
   "cell_type": "code",
   "execution_count": 26,
   "metadata": {},
   "outputs": [],
   "source": [
    "import delft3d\n",
    "\n",
    "# supply the path of the dep file and grd file\n",
    "dep = delft3d.DepFile('example/example1.dep', 'example/example1.grd')\n",
    "# supply the path of the dep file and the GrdFile object of the grd file\n",
    "grd_file = delft3d.GrdFile('example/example1.grd')\n",
    "dep_ = delft3d.DepFile('example/example1.dep', grd_file)"
   ]
  },
  {
   "cell_type": "markdown",
   "metadata": {},
   "source": [
    "<br>\n",
    "\n",
    "#### Visualize the depth\n",
    "If the coordinate system is spherical, it will be automatically\n",
    "convert to cartesian coordinate system. You can specify the EPSG of coordiante\n",
    "by assigning sph_egsp and car_epsg. Find the EPSG of more coordinate system in\n",
    "the following link. https://developers.arcgis.com/javascript/3/jshelp/pcs.htm"
   ]
  },
  {
   "cell_type": "code",
   "execution_count": 27,
   "metadata": {},
   "outputs": [
    {
     "data": {
      "image/png": "[encoded data removed]",
      "text/plain": [
       "<Figure size 720x576 with 2 Axes>"
      ]
     },
     "metadata": {
      "needs_background": "light"
     },
     "output_type": "display_data"
    }
   ],
   "source": [
    "dep.plot()"
   ]
  },
  {
   "cell_type": "markdown",
   "metadata": {},
   "source": [
    "<br>\n",
    "\n",
    "#### Set new dep data"
   ]
  },
  {
   "cell_type": "code",
   "execution_count": 28,
   "metadata": {},
   "outputs": [
    {
     "data": {
      "image/png": "[encoded data removed]",
      "text/plain": [
       "<Figure size 720x576 with 2 Axes>"
      ]
     },
     "metadata": {
      "needs_background": "light"
     },
     "output_type": "display_data"
    }
   ],
   "source": [
    "import numpy as np\n",
    "\n",
    "dep_data = np.loadtxt('example/dep_data.txt')\n",
    "dep.set_dep(dep_data)\n",
    "dep.plot()"
   ]
  },
  {
   "cell_type": "markdown",
   "metadata": {},
   "source": [
    "<br>\n",
    "\n",
    "#### Export the data to a ndarry in the format of Delft3D dep file"
   ]
  },
  {
   "cell_type": "code",
   "execution_count": 29,
   "metadata": {},
   "outputs": [
    {
     "data": {
      "text/plain": [
       "['  -9.9900000E+02  -9.9900000E+02  -9.9900000E+02  -9.9900000E+02  -9.9900000E+02  -9.9900000E+02  -9.9900000E+02  -9.9900000E+02  -9.9900000E+02  -9.9900000E+02  -9.9900000E+02   1.0000000E+00\\n',\n",
       " '   1.0000000E+00   1.0000000E+00  -9.9900000E+02\\n',\n",
       " '  -9.9900000E+02  -9.9900000E+02  -9.9900000E+02  -9.9900000E+02  -9.9900000E+02  -9.9900000E+02  -9.9900000E+02  -9.9900000E+02  -9.9900000E+02  -9.9900000E+02   1.2130000E+00   1.2030000E+00\\n',\n",
       " '   1.2000000E+00   1.2140000E+00  -9.9900000E+02\\n',\n",
       " '   1.3610000E+00   1.3460000E+00   1.3480000E+00   1.3640000E+00  -9.9900000E+02  -9.9900000E+02  -9.9900000E+02  -9.9900000E+02  -9.9900000E+02  -9.9900000E+02   1.4250000E+00   1.4010000E+00\\n',\n",
       " '   1.3870000E+00   1.3950000E+00  -9.9900000E+02\\n',\n",
       " '   1.5060000E+00   1.4960000E+00   1.5050000E+00   1.5330000E+00   1.5770000E+00  -9.9900000E+02  -9.9900000E+02  -9.9900000E+02  -9.9900000E+02   1.6880000E+00   1.6380000E+00   1.5880000E+00\\n',\n",
       " '   1.5530000E+00   1.5420000E+00  -9.9900000E+02\\n',\n",
       " '   1.6300000E+00   1.6270000E+00   1.6440000E+00   1.6850000E+00   1.7520000E+00   1.8440000E+00   1.9430000E+00   2.0110000E+00   2.0120000E+00   1.9450000E+00   1.8480000E+00   1.7580000E+00\\n',\n",
       " '   1.6940000E+00   1.6570000E+00  -9.9900000E+02\\n']"
      ]
     },
     "execution_count": 29,
     "metadata": {},
     "output_type": "execute_result"
    }
   ],
   "source": [
    "dep_file = dep.export()\n",
    "dep_file[0:10]"
   ]
  },
  {
   "cell_type": "markdown",
   "metadata": {},
   "source": [
    "<br>\n",
    "\n",
    "#### Write the data to a Delft3D dep file"
   ]
  },
  {
   "cell_type": "code",
   "execution_count": 30,
   "metadata": {},
   "outputs": [],
   "source": [
    "dep.to_file('example1.dep')"
   ]
  }
 ],
 "metadata": {
  "kernelspec": {
   "display_name": "Python 3.8.9 ('venv': venv)",
   "language": "python",
   "name": "python3"
  },
  "language_info": {
   "codemirror_mode": {
    "name": "ipython",
    "version": 3
   },
   "file_extension": ".py",
   "mimetype": "text/x-python",
   "name": "python",
   "nbconvert_exporter": "python",
   "pygments_lexer": "ipython3",
   "version": "3.8.9"
  },
  "vscode": {
   "interpreter": {
    "hash": "b27b0f187cf14caf10c12f6397e776eaf2a75bbb5f1d89b4706eaa86d396ebb9"
   }
  }
 },
 "nbformat": 4,
 "nbformat_minor": 4
}
